{
 "cells": [
  {
   "cell_type": "markdown",
   "metadata": {},
   "source": [
    "# ---------------------------------------------------------------------------------------------\n",
    "\n",
    "## EA App category prediction \n",
    "\n",
    "### This python code constructs the Text Classification model, so the machine learns how to classify the issue type from user input Q11D.                                   \n",
    "# ---------------------------------------------------------------------------------------------"
   ]
  },
  {
   "cell_type": "code",
   "execution_count": 134,
   "metadata": {},
   "outputs": [
    {
     "data": {
      "text/plain": [
       "'C:\\\\Users\\\\bshakeri\\\\DnA - Tasks\\\\EA APP Survey'"
      ]
     },
     "execution_count": 134,
     "metadata": {},
     "output_type": "execute_result"
    }
   ],
   "source": [
    "pwd"
   ]
  },
  {
   "cell_type": "code",
   "execution_count": 117,
   "metadata": {},
   "outputs": [],
   "source": [
    "# pip install wordcloud"
   ]
  },
  {
   "cell_type": "code",
   "execution_count": 135,
   "metadata": {},
   "outputs": [],
   "source": [
    "import matplotlib.pyplot as plt\n",
    "from wordcloud import WordCloud, STOPWORDS, ImageColorGenerator"
   ]
  },
  {
   "cell_type": "code",
   "execution_count": 3,
   "metadata": {},
   "outputs": [],
   "source": [
    "import joblib\n",
    "import re\n",
    "import string"
   ]
  },
  {
   "cell_type": "code",
   "execution_count": 4,
   "metadata": {},
   "outputs": [],
   "source": [
    "import numpy as np\n",
    "import pandas as pd"
   ]
  },
  {
   "cell_type": "code",
   "execution_count": 5,
   "metadata": {},
   "outputs": [],
   "source": [
    "from sklearn.feature_extraction.text import CountVectorizer\n",
    "from sklearn.metrics import accuracy_score, cohen_kappa_score, f1_score, classification_report\n",
    "from sklearn.model_selection import StratifiedKFold, train_test_split\n",
    "from sklearn.naive_bayes import MultinomialNB"
   ]
  },
  {
   "cell_type": "markdown",
   "metadata": {},
   "source": [
    "## Loading the training/testing csv"
   ]
  },
  {
   "cell_type": "code",
   "execution_count": 136,
   "metadata": {},
   "outputs": [],
   "source": [
    "df = pd.read_csv(r\"C:\\Users\\bshakeri\\DnA - Tasks\\EA APP Survey\\EA App Feedback Survey_20221101_MLTraining.csv\", encoding= 'utf-8-sig')"
   ]
  },
  {
   "cell_type": "code",
   "execution_count": 38,
   "metadata": {},
   "outputs": [
    {
     "data": {
      "text/html": [
       "<div>\n",
       "<style scoped>\n",
       "    .dataframe tbody tr th:only-of-type {\n",
       "        vertical-align: middle;\n",
       "    }\n",
       "\n",
       "    .dataframe tbody tr th {\n",
       "        vertical-align: top;\n",
       "    }\n",
       "\n",
       "    .dataframe thead th {\n",
       "        text-align: right;\n",
       "    }\n",
       "</style>\n",
       "<table border=\"1\" class=\"dataframe\">\n",
       "  <thead>\n",
       "    <tr style=\"text-align: right;\">\n",
       "      <th></th>\n",
       "      <th>record</th>\n",
       "      <th>uuid</th>\n",
       "      <th>date</th>\n",
       "      <th>markers</th>\n",
       "      <th>status</th>\n",
       "      <th>vlist</th>\n",
       "      <th>qtime</th>\n",
       "      <th>vos</th>\n",
       "      <th>vosr15oe</th>\n",
       "      <th>vbrowser</th>\n",
       "      <th>...</th>\n",
       "      <th>Q13r31</th>\n",
       "      <th>Q13r61</th>\n",
       "      <th>Q13r62</th>\n",
       "      <th>Q13r12</th>\n",
       "      <th>Q13r13</th>\n",
       "      <th>Q13r14</th>\n",
       "      <th>Q13r15</th>\n",
       "      <th>Q13r16</th>\n",
       "      <th>Q30</th>\n",
       "      <th>Q31</th>\n",
       "    </tr>\n",
       "  </thead>\n",
       "  <tbody>\n",
       "    <tr>\n",
       "      <th>0</th>\n",
       "      <td>347106</td>\n",
       "      <td>6y0c81svmgbny0ez</td>\n",
       "      <td>11/01/2022 0:02</td>\n",
       "      <td>qualified,/hQ11B/hWave_r2/hQ11B_13,/Overall/To...</td>\n",
       "      <td>3</td>\n",
       "      <td>1</td>\n",
       "      <td>211.345</td>\n",
       "      <td>4.0</td>\n",
       "      <td>NaN</td>\n",
       "      <td>10.0</td>\n",
       "      <td>...</td>\n",
       "      <td>1.0</td>\n",
       "      <td>1.0</td>\n",
       "      <td>1.0</td>\n",
       "      <td>1.0</td>\n",
       "      <td>1.0</td>\n",
       "      <td>1.0</td>\n",
       "      <td>1.0</td>\n",
       "      <td>1.0</td>\n",
       "      <td>NaN</td>\n",
       "      <td>删了他是最好的选择</td>\n",
       "    </tr>\n",
       "  </tbody>\n",
       "</table>\n",
       "<p>1 rows × 187 columns</p>\n",
       "</div>"
      ],
      "text/plain": [
       "   record              uuid             date  \\\n",
       "0  347106  6y0c81svmgbny0ez  11/01/2022 0:02   \n",
       "\n",
       "                                             markers  status  vlist    qtime  \\\n",
       "0  qualified,/hQ11B/hWave_r2/hQ11B_13,/Overall/To...       3      1  211.345   \n",
       "\n",
       "   vos  vosr15oe  vbrowser  ...  Q13r31  Q13r61  Q13r62 Q13r12  Q13r13  \\\n",
       "0  4.0       NaN      10.0  ...     1.0     1.0     1.0    1.0     1.0   \n",
       "\n",
       "   Q13r14 Q13r15  Q13r16  Q30        Q31  \n",
       "0     1.0    1.0     1.0  NaN  删了他是最好的选择  \n",
       "\n",
       "[1 rows x 187 columns]"
      ]
     },
     "execution_count": 38,
     "metadata": {},
     "output_type": "execute_result"
    }
   ],
   "source": [
    "df.head(1)"
   ]
  },
  {
   "cell_type": "code",
   "execution_count": 39,
   "metadata": {},
   "outputs": [
    {
     "data": {
      "text/plain": [
       "Index(['record', 'uuid', 'date', 'markers', 'status', 'vlist', 'qtime', 'vos',\n",
       "       'vosr15oe', 'vbrowser',\n",
       "       ...\n",
       "       'Q13r31', 'Q13r61', 'Q13r62', 'Q13r12', 'Q13r13', 'Q13r14', 'Q13r15',\n",
       "       'Q13r16', 'Q30', 'Q31'],\n",
       "      dtype='object', length=187)"
      ]
     },
     "execution_count": 39,
     "metadata": {},
     "output_type": "execute_result"
    }
   ],
   "source": [
    "df.columns"
   ]
  },
  {
   "cell_type": "code",
   "execution_count": 137,
   "metadata": {},
   "outputs": [],
   "source": [
    "## Removing two outliers - the text is still in chineese\n",
    "df = df[(df.record != 364773) & (df.record != 364777)]"
   ]
  },
  {
   "cell_type": "markdown",
   "metadata": {},
   "source": [
    "## EDA for the Category variable"
   ]
  },
  {
   "cell_type": "code",
   "execution_count": 43,
   "metadata": {},
   "outputs": [
    {
     "data": {
      "text/plain": [
       "array(['simplifiedchinese', 'usa', 'spanish', 'german', 'polish',\n",
       "       'portuguese_br', 'french'], dtype=object)"
      ]
     },
     "execution_count": 43,
     "metadata": {},
     "output_type": "execute_result"
    }
   ],
   "source": [
    "# Unique language\n",
    "df['decLang'].unique()"
   ]
  },
  {
   "cell_type": "code",
   "execution_count": 58,
   "metadata": {},
   "outputs": [
    {
     "data": {
      "text/plain": [
       "array(['Game wouldn’t launch', 'Problems with download',\n",
       "       'None of the above',\n",
       "       'Issues with EA Play/EA Play Pro subscription',\n",
       "       'App felt slow or laggy', 'Issues with login',\n",
       "       'Game installation issues', 'Issues with chat or game invites',\n",
       "       'Issues updating the EA app client', 'Issues linking accounts',\n",
       "       'App crashes or freezes',\n",
       "       'Couldn’t find game or DLC I was looking for',\n",
       "       'Issues updating a game', 'Issues with purchasing'], dtype=object)"
      ]
     },
     "execution_count": 58,
     "metadata": {},
     "output_type": "execute_result"
    }
   ],
   "source": [
    "df['Category'].unique()"
   ]
  },
  {
   "cell_type": "code",
   "execution_count": 44,
   "metadata": {},
   "outputs": [
    {
     "data": {
      "text/plain": [
       "None of the above                               1389\n",
       "Game wouldn’t launch                             499\n",
       "Couldn’t find game or DLC I was looking for      259\n",
       "Problems with download                           253\n",
       "Issues with login                                248\n",
       "Issues linking accounts                          245\n",
       "App crashes or freezes                           230\n",
       "Issues with purchasing                           199\n",
       "Game installation issues                         154\n",
       "App felt slow or laggy                           144\n",
       "Issues with chat or game invites                 121\n",
       "Issues updating the EA app client                106\n",
       "Issues updating a game                            92\n",
       "Issues with EA Play/EA Play Pro subscription      59\n",
       "Name: Category, dtype: int64"
      ]
     },
     "execution_count": 44,
     "metadata": {},
     "output_type": "execute_result"
    }
   ],
   "source": [
    "df['Category'].value_counts()\n",
    "\n",
    "# df.Category.value_counts()"
   ]
  },
  {
   "cell_type": "code",
   "execution_count": 45,
   "metadata": {},
   "outputs": [
    {
     "data": {
      "text/html": [
       "<div>\n",
       "<style scoped>\n",
       "    .dataframe tbody tr th:only-of-type {\n",
       "        vertical-align: middle;\n",
       "    }\n",
       "\n",
       "    .dataframe tbody tr th {\n",
       "        vertical-align: top;\n",
       "    }\n",
       "\n",
       "    .dataframe thead th {\n",
       "        text-align: right;\n",
       "    }\n",
       "</style>\n",
       "<table border=\"1\" class=\"dataframe\">\n",
       "  <thead>\n",
       "    <tr style=\"text-align: right;\">\n",
       "      <th></th>\n",
       "      <th>count</th>\n",
       "      <th>percentage</th>\n",
       "    </tr>\n",
       "  </thead>\n",
       "  <tbody>\n",
       "    <tr>\n",
       "      <th>None of the above</th>\n",
       "      <td>1389</td>\n",
       "      <td>34.742371</td>\n",
       "    </tr>\n",
       "    <tr>\n",
       "      <th>Game wouldn’t launch</th>\n",
       "      <td>499</td>\n",
       "      <td>12.481241</td>\n",
       "    </tr>\n",
       "    <tr>\n",
       "      <th>Couldn’t find game or DLC I was looking for</th>\n",
       "      <td>259</td>\n",
       "      <td>6.478239</td>\n",
       "    </tr>\n",
       "    <tr>\n",
       "      <th>Problems with download</th>\n",
       "      <td>253</td>\n",
       "      <td>6.328164</td>\n",
       "    </tr>\n",
       "    <tr>\n",
       "      <th>Issues with login</th>\n",
       "      <td>248</td>\n",
       "      <td>6.203102</td>\n",
       "    </tr>\n",
       "    <tr>\n",
       "      <th>Issues linking accounts</th>\n",
       "      <td>245</td>\n",
       "      <td>6.128064</td>\n",
       "    </tr>\n",
       "    <tr>\n",
       "      <th>App crashes or freezes</th>\n",
       "      <td>230</td>\n",
       "      <td>5.752876</td>\n",
       "    </tr>\n",
       "    <tr>\n",
       "      <th>Issues with purchasing</th>\n",
       "      <td>199</td>\n",
       "      <td>4.977489</td>\n",
       "    </tr>\n",
       "    <tr>\n",
       "      <th>Game installation issues</th>\n",
       "      <td>154</td>\n",
       "      <td>3.851926</td>\n",
       "    </tr>\n",
       "    <tr>\n",
       "      <th>App felt slow or laggy</th>\n",
       "      <td>144</td>\n",
       "      <td>3.601801</td>\n",
       "    </tr>\n",
       "    <tr>\n",
       "      <th>Issues with chat or game invites</th>\n",
       "      <td>121</td>\n",
       "      <td>3.026513</td>\n",
       "    </tr>\n",
       "    <tr>\n",
       "      <th>Issues updating the EA app client</th>\n",
       "      <td>106</td>\n",
       "      <td>2.651326</td>\n",
       "    </tr>\n",
       "    <tr>\n",
       "      <th>Issues updating a game</th>\n",
       "      <td>92</td>\n",
       "      <td>2.301151</td>\n",
       "    </tr>\n",
       "    <tr>\n",
       "      <th>Issues with EA Play/EA Play Pro subscription</th>\n",
       "      <td>59</td>\n",
       "      <td>1.475738</td>\n",
       "    </tr>\n",
       "  </tbody>\n",
       "</table>\n",
       "</div>"
      ],
      "text/plain": [
       "                                              count  percentage\n",
       "None of the above                              1389   34.742371\n",
       "Game wouldn’t launch                            499   12.481241\n",
       "Couldn’t find game or DLC I was looking for     259    6.478239\n",
       "Problems with download                          253    6.328164\n",
       "Issues with login                               248    6.203102\n",
       "Issues linking accounts                         245    6.128064\n",
       "App crashes or freezes                          230    5.752876\n",
       "Issues with purchasing                          199    4.977489\n",
       "Game installation issues                        154    3.851926\n",
       "App felt slow or laggy                          144    3.601801\n",
       "Issues with chat or game invites                121    3.026513\n",
       "Issues updating the EA app client               106    2.651326\n",
       "Issues updating a game                           92    2.301151\n",
       "Issues with EA Play/EA Play Pro subscription     59    1.475738"
      ]
     },
     "execution_count": 45,
     "metadata": {},
     "output_type": "execute_result"
    }
   ],
   "source": [
    "# pd.DataFrame(df['Category'].value_counts()).reset_index()\n",
    "\n",
    "counts = df.Category.value_counts()\n",
    "percs = df.Category.value_counts(normalize=True)*100\n",
    "pd.concat([counts,percs], axis=1, keys=['count', 'percentage'])"
   ]
  },
  {
   "cell_type": "markdown",
   "metadata": {},
   "source": [
    "#### Takeaway: %35 of the commenters chose that cause of the error is not among the options. It would be interesting to see what they commented about it. "
   ]
  },
  {
   "cell_type": "markdown",
   "metadata": {},
   "source": [
    "## Clean the user input text"
   ]
  },
  {
   "cell_type": "code",
   "execution_count": 138,
   "metadata": {},
   "outputs": [],
   "source": [
    "def process_text(text):\n",
    "    text = str(text).lower()\n",
    "    text = re.sub(\n",
    "        f\"[{re.escape(string.punctuation)}]\", \" \", text\n",
    "    )\n",
    "    text = \" \".join(text.split())\n",
    "    return text"
   ]
  },
  {
   "cell_type": "code",
   "execution_count": 139,
   "metadata": {},
   "outputs": [],
   "source": [
    "df[\"clean_text\"] = df.Q11D.map(process_text)"
   ]
  },
  {
   "cell_type": "code",
   "execution_count": 55,
   "metadata": {},
   "outputs": [],
   "source": [
    "df.to_csv('df_cleantext.csv', index=False, encoding= 'utf-8-sig')\n",
    "# df.head(5)"
   ]
  },
  {
   "cell_type": "markdown",
   "metadata": {},
   "source": [
    "### Takeaway: The text is not clean enough >> need to try more "
   ]
  },
  {
   "cell_type": "markdown",
   "metadata": {},
   "source": [
    "### Analyze %35 of the comments chose \"None of the above\""
   ]
  },
  {
   "cell_type": "code",
   "execution_count": 140,
   "metadata": {},
   "outputs": [
    {
     "data": {
      "text/plain": [
       "3975                                                  nan\n",
       "3977                                                  nan\n",
       "3980                                                  nan\n",
       "3985                                                  nan\n",
       "3988                                                  nan\n",
       "3989                           can t update online status\n",
       "3992                                    the app is a joke\n",
       "3995                                                   no\n",
       "3996    start up and during run the app says it s not ...\n",
       "3999                                                  nan\n",
       "Name: clean_text, dtype: object"
      ]
     },
     "execution_count": 140,
     "metadata": {},
     "output_type": "execute_result"
    }
   ],
   "source": [
    "df_subset1 =  df[df[\"Category\"] == 'None of the above']\n",
    "\n",
    "# df_subset1.head()\n",
    "df_subset1[\"clean_text\"].tail(10)\n"
   ]
  },
  {
   "cell_type": "code",
   "execution_count": 141,
   "metadata": {},
   "outputs": [
    {
     "name": "stdout",
     "output_type": "stream",
     "text": [
      "There is 567 of null value on the comment section which is equal to %40.8 of all none category.\n"
     ]
    }
   ],
   "source": [
    "# !!!!!!!!!!!!!!!!!!!!!!!!!!!!!!\n",
    "# Question:\n",
    "# there are a substantial number of \"nan\" > \n",
    "# does it mean that there was no error or simple the commented did not put anything?\n",
    "\n",
    "n = df_subset1[df_subset1[\"clean_text\"] == 'nan'][\"clean_text\"].count()\n",
    "m = np.round(n/1391*100,1)\n",
    "\n",
    "print('There is {a} of null value on the comment section which is equal to %{b} of all none category.'.format(a=n, b=m))"
   ]
  },
  {
   "cell_type": "code",
   "execution_count": 142,
   "metadata": {},
   "outputs": [
    {
     "name": "stdout",
     "output_type": "stream",
     "text": [
      "# Number of comments after droping nan values: 822\n",
      "# Number of comments after droping null values: 822\n",
      "# Number of comments after droping values less than 1 character: 713\n"
     ]
    },
    {
     "data": {
      "text/html": [
       "<div>\n",
       "<style scoped>\n",
       "    .dataframe tbody tr th:only-of-type {\n",
       "        vertical-align: middle;\n",
       "    }\n",
       "\n",
       "    .dataframe tbody tr th {\n",
       "        vertical-align: top;\n",
       "    }\n",
       "\n",
       "    .dataframe thead th {\n",
       "        text-align: right;\n",
       "    }\n",
       "</style>\n",
       "<table border=\"1\" class=\"dataframe\">\n",
       "  <thead>\n",
       "    <tr style=\"text-align: right;\">\n",
       "      <th></th>\n",
       "      <th>record</th>\n",
       "      <th>uuid</th>\n",
       "      <th>date</th>\n",
       "      <th>markers</th>\n",
       "      <th>status</th>\n",
       "      <th>vlist</th>\n",
       "      <th>qtime</th>\n",
       "      <th>vos</th>\n",
       "      <th>vosr15oe</th>\n",
       "      <th>vbrowser</th>\n",
       "      <th>...</th>\n",
       "      <th>Q13r61</th>\n",
       "      <th>Q13r62</th>\n",
       "      <th>Q13r12</th>\n",
       "      <th>Q13r13</th>\n",
       "      <th>Q13r14</th>\n",
       "      <th>Q13r15</th>\n",
       "      <th>Q13r16</th>\n",
       "      <th>Q30</th>\n",
       "      <th>Q31</th>\n",
       "      <th>clean_text</th>\n",
       "    </tr>\n",
       "  </thead>\n",
       "  <tbody>\n",
       "    <tr>\n",
       "      <th>3</th>\n",
       "      <td>347150</td>\n",
       "      <td>np4sw5d4y3xjuq0b</td>\n",
       "      <td>11/01/2022 0:27</td>\n",
       "      <td>qualified,/Overall/Total,20220823_19:39_v32,/h...</td>\n",
       "      <td>3</td>\n",
       "      <td>1</td>\n",
       "      <td>307.028</td>\n",
       "      <td>4.0</td>\n",
       "      <td>NaN</td>\n",
       "      <td>10.0</td>\n",
       "      <td>...</td>\n",
       "      <td>3.0</td>\n",
       "      <td>3.0</td>\n",
       "      <td>3.0</td>\n",
       "      <td>3.0</td>\n",
       "      <td>3.0</td>\n",
       "      <td>3.0</td>\n",
       "      <td>3.0</td>\n",
       "      <td>NaN</td>\n",
       "      <td>尽快修复bug</td>\n",
       "      <td>game</td>\n",
       "    </tr>\n",
       "  </tbody>\n",
       "</table>\n",
       "<p>1 rows × 188 columns</p>\n",
       "</div>"
      ],
      "text/plain": [
       "   record              uuid             date  \\\n",
       "3  347150  np4sw5d4y3xjuq0b  11/01/2022 0:27   \n",
       "\n",
       "                                             markers  status  vlist    qtime  \\\n",
       "3  qualified,/Overall/Total,20220823_19:39_v32,/h...       3      1  307.028   \n",
       "\n",
       "   vos  vosr15oe  vbrowser  ...  Q13r61  Q13r62  Q13r12 Q13r13  Q13r14  \\\n",
       "3  4.0       NaN      10.0  ...     3.0     3.0     3.0    3.0     3.0   \n",
       "\n",
       "   Q13r15 Q13r16  Q30      Q31 clean_text  \n",
       "3     3.0    3.0  NaN  尽快修复bug       game  \n",
       "\n",
       "[1 rows x 188 columns]"
      ]
     },
     "execution_count": 142,
     "metadata": {},
     "output_type": "execute_result"
    }
   ],
   "source": [
    "# removing \"nan\" values for the word cloud\n",
    "df_subset2 = df_subset1[df_subset1[\"clean_text\"] != 'nan']\n",
    "print('# Number of comments after droping nan values: {}'.format(df_subset2[\"clean_text\"].count()))\n",
    "\n",
    "df_subset2 = df_subset2.dropna(subset=['clean_text'])\n",
    "print('# Number of comments after droping null values: {}'.format(df_subset2[\"clean_text\"].count()))\n",
    "\n",
    "\n",
    "df_subset2 = df_subset2.loc[df_subset2['clean_text'].str.len() > 1]\n",
    "print('# Number of comments after droping values less than 1 character: {}'.format(df_subset2[\"clean_text\"].count()))\n",
    "\n",
    "df_subset2.head(1)"
   ]
  },
  {
   "cell_type": "code",
   "execution_count": 143,
   "metadata": {},
   "outputs": [],
   "source": [
    "text = \" \".join(cat for cat in df_subset2.clean_text)\n",
    "# print(text)"
   ]
  },
  {
   "cell_type": "markdown",
   "metadata": {},
   "source": [
    "#### Let's try some tokenization"
   ]
  },
  {
   "cell_type": "code",
   "execution_count": 101,
   "metadata": {},
   "outputs": [
    {
     "name": "stderr",
     "output_type": "stream",
     "text": [
      "[nltk_data] Downloading package wordnet to\n",
      "[nltk_data]     C:\\Users\\bshakeri\\AppData\\Roaming\\nltk_data...\n",
      "[nltk_data]   Package wordnet is already up-to-date!\n",
      "[nltk_data] Downloading package omw-1.4 to\n",
      "[nltk_data]     C:\\Users\\bshakeri\\AppData\\Roaming\\nltk_data...\n"
     ]
    },
    {
     "data": {
      "text/plain": [
       "True"
      ]
     },
     "execution_count": 101,
     "metadata": {},
     "output_type": "execute_result"
    }
   ],
   "source": [
    "import nltk\n",
    "nltk.download('wordnet')\n",
    "nltk.download('omw-1.4')"
   ]
  },
  {
   "cell_type": "code",
   "execution_count": 144,
   "metadata": {},
   "outputs": [],
   "source": [
    "# There are three types of tokenizer\n",
    "# WhitespaceTokenizer()\n",
    "# TreebankWorkTokenizer()\n",
    "# WordPunctTokenizer()\n",
    "\n",
    "tokenizer = nltk.tokenize.TreebankWordTokenizer()"
   ]
  },
  {
   "cell_type": "code",
   "execution_count": 126,
   "metadata": {},
   "outputs": [],
   "source": [
    "# ## Removing stop words\n",
    "\n",
    "# stop_words = set(STOPWORDS)\n",
    "\n",
    "# tokens0 = tokenizer.tokenize(text)\n",
    "\n",
    "# # converts the words in word_tokens to lower case and then checks whether \n",
    "# #they are present in stop_words or not\n",
    "# filtered_sentence = [w for w in tokens0 if not w.lower() in stop_words]\n",
    "# #with no lower case conversion\n",
    "# filtered_sentence = []\n",
    "  \n",
    "# for w in tokens0:\n",
    "#     if w not in stop_words:\n",
    "#         filtered_sentence.append(w)\n",
    "\n",
    "# print(filtered_sentence)"
   ]
  },
  {
   "cell_type": "code",
   "execution_count": 119,
   "metadata": {},
   "outputs": [],
   "source": [
    "# # What do lemmatization and stemming do? \n",
    "\n",
    "# text2 = \"feet wolves cats talked\"\n",
    "# tokens = tokenizer.tokenize(text2)\n",
    "# print(tokens)\n",
    "\n",
    "# ## Lemmatization\n",
    "# stemmer = nltk.stem.WordNetLemmatizer()\n",
    "# text3 = \" \".join(stemmer.lemmatize(token) for token in tokens2)\n",
    "# print(text3)\n",
    "\n",
    "# ## Stemming\n",
    "# tokens3 = tokenizer.tokenize(text3)\n",
    "# stemmer = nltk.stem.PorterStemmer()\n",
    "# text4 = \" \".join(stemmer.stem(token) for token in tokens3)\n",
    "# print(text4)"
   ]
  },
  {
   "cell_type": "code",
   "execution_count": 145,
   "metadata": {},
   "outputs": [],
   "source": [
    "## Lemmatization\n",
    "tokens = tokenizer.tokenize(text)\n",
    "stemmer = nltk.stem.WordNetLemmatizer()\n",
    "text1 = \" \".join(stemmer.lemmatize(token) for token in tokens)\n",
    "\n",
    "### Didn't have a good result\n",
    "## Stemming\n",
    "# tokens1 = tokenizer.tokenize(text1)\n",
    "# stemmer = nltk.stem.PorterStemmer()\n",
    "# text3 = \" \".join(stemmer.stem(token) for token in tokens1)\n",
    "\n",
    "final_text = text1"
   ]
  },
  {
   "cell_type": "code",
   "execution_count": 127,
   "metadata": {},
   "outputs": [],
   "source": [
    "# print(final_text)"
   ]
  },
  {
   "cell_type": "code",
   "execution_count": 146,
   "metadata": {},
   "outputs": [
    {
     "data": {
      "image/png": "[encoded data removed]",
      "text/plain": [
       "<Figure size 640x480 with 1 Axes>"
      ]
     },
     "metadata": {},
     "output_type": "display_data"
    }
   ],
   "source": [
    "# Start with one review:\n",
    "# text = df.description[0]\n",
    "\n",
    "# Create and generate a word cloud image:\n",
    "wordcloud = WordCloud().generate(final_text)\n",
    "\n",
    "# Display the generated image:\n",
    "# plt.imshow(wordcloud, interpolation='bilinear')\n",
    "# plt.axis(\"off\")\n",
    "# plt.show()\n",
    "\n",
    "# lower max_font_size, change the maximum number of word and lighten the background:\n",
    "wordcloud = WordCloud(max_font_size=70, max_words=40, background_color=\"white\").generate(final_text)\n",
    "plt.figure()\n",
    "plt.imshow(wordcloud, interpolation=\"bilinear\")\n",
    "plt.axis(\"off\")\n",
    "plt.show()\n"
   ]
  },
  {
   "cell_type": "markdown",
   "metadata": {},
   "source": [
    "## Split the dataset into training set and testing set"
   ]
  },
  {
   "cell_type": "code",
   "execution_count": 147,
   "metadata": {},
   "outputs": [],
   "source": [
    "# Main one > \n",
    "df_train, df_test = train_test_split(df, test_size=0.20, stratify=df.Category)\n",
    "\n",
    "# Removing the \"None of the above\" Category\n",
    "# df2 = df[df[\"Category\"] != 'None of the above']\n",
    "# df_train, df_test = train_test_split(df2, test_size=0.20, stratify=df2.Category)"
   ]
  },
  {
   "cell_type": "code",
   "execution_count": 29,
   "metadata": {},
   "outputs": [],
   "source": [
    "#df_train.head()"
   ]
  },
  {
   "cell_type": "markdown",
   "metadata": {},
   "source": [
    "## Create bags of words for text classification model"
   ]
  },
  {
   "cell_type": "code",
   "execution_count": 148,
   "metadata": {},
   "outputs": [],
   "source": [
    "vec = CountVectorizer(\n",
    "    ngram_range=(1, 3), \n",
    "    stop_words=\"english\",\n",
    ")"
   ]
  },
  {
   "cell_type": "code",
   "execution_count": 149,
   "metadata": {},
   "outputs": [],
   "source": [
    "X_train = vec.fit_transform(df_train.clean_text)\n",
    "X_test = vec.transform(df_test.clean_text)"
   ]
  },
  {
   "cell_type": "code",
   "execution_count": 36,
   "metadata": {},
   "outputs": [],
   "source": [
    "# print(X_train)"
   ]
  },
  {
   "cell_type": "code",
   "execution_count": 150,
   "metadata": {},
   "outputs": [],
   "source": [
    "y_train = df_train.Category\n",
    "y_test = df_test.Category"
   ]
  },
  {
   "cell_type": "markdown",
   "metadata": {},
   "source": [
    "## Training and evaluating the model"
   ]
  },
  {
   "cell_type": "markdown",
   "metadata": {},
   "source": [
    "### 1. MultinominalNB"
   ]
  },
  {
   "cell_type": "code",
   "execution_count": 151,
   "metadata": {},
   "outputs": [
    {
     "data": {
      "text/plain": [
       "MultinomialNB()"
      ]
     },
     "execution_count": 151,
     "metadata": {},
     "output_type": "execute_result"
    }
   ],
   "source": [
    "nb = MultinomialNB()\n",
    "nb.fit(X_train, y_train)"
   ]
  },
  {
   "cell_type": "code",
   "execution_count": 152,
   "metadata": {},
   "outputs": [
    {
     "name": "stdout",
     "output_type": "stream",
     "text": [
      "                                              precision    recall  f1-score   support\n",
      "\n",
      "                      App crashes or freezes       0.56      0.11      0.18        46\n",
      "                      App felt slow or laggy       0.69      0.31      0.43        29\n",
      " Couldn’t find game or DLC I was looking for       0.58      0.27      0.37        52\n",
      "                    Game installation issues       0.75      0.19      0.31        31\n",
      "                        Game wouldn’t launch       0.37      0.96      0.53       100\n",
      "                     Issues linking accounts       0.75      0.55      0.64        49\n",
      "                      Issues updating a game       0.43      0.17      0.24        18\n",
      "           Issues updating the EA app client       0.80      0.38      0.52        21\n",
      "Issues with EA Play/EA Play Pro subscription       1.00      0.08      0.15        12\n",
      "            Issues with chat or game invites       1.00      0.25      0.40        24\n",
      "                           Issues with login       0.70      0.65      0.67        49\n",
      "                      Issues with purchasing       0.85      0.57      0.69        40\n",
      "                           None of the above       0.83      0.88      0.85       278\n",
      "                      Problems with download       0.57      0.67      0.61        51\n",
      "\n",
      "                                    accuracy                           0.64       800\n",
      "                                   macro avg       0.71      0.43      0.47       800\n",
      "                                weighted avg       0.70      0.64      0.61       800\n",
      "\n"
     ]
    }
   ],
   "source": [
    "preds = nb.predict(X_test)\n",
    "print(classification_report(y_test, preds))"
   ]
  },
  {
   "cell_type": "markdown",
   "metadata": {},
   "source": [
    "## Save the model for future use"
   ]
  },
  {
   "cell_type": "code",
   "execution_count": 24,
   "metadata": {},
   "outputs": [
    {
     "data": {
      "text/plain": [
       "['vec.joblib']"
      ]
     },
     "execution_count": 24,
     "metadata": {},
     "output_type": "execute_result"
    }
   ],
   "source": [
    "joblib.dump(nb, \"nb.joblib\")\n",
    "joblib.dump(vec, \"vec.joblib\")"
   ]
  },
  {
   "cell_type": "code",
   "execution_count": null,
   "metadata": {},
   "outputs": [],
   "source": []
  }
 ],
 "metadata": {
  "kernelspec": {
   "display_name": "Python 3 (ipykernel)",
   "language": "python",
   "name": "python3"
  },
  "language_info": {
   "codemirror_mode": {
    "name": "ipython",
    "version": 3
   },
   "file_extension": ".py",
   "mimetype": "text/x-python",
   "name": "python",
   "nbconvert_exporter": "python",
   "pygments_lexer": "ipython3",
   "version": "3.9.13"
  }
 },
 "nbformat": 4,
 "nbformat_minor": 2
}
